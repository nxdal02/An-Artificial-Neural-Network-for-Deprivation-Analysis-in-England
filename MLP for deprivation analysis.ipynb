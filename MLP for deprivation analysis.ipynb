{
 "cells": [
  {
   "cell_type": "code",
   "execution_count": null,
   "id": "c08bfbb2-48b4-4bba-b6eb-3f95f54c88cc",
   "metadata": {},
   "outputs": [],
   "source": [
    "import pandas as pd"
   ]
  },
  {
   "cell_type": "code",
   "execution_count": null,
   "id": "1c9b2bea-b0b6-4a98-86df-d6982214e547",
   "metadata": {},
   "outputs": [],
   "source": [
    "import numpy as np"
   ]
  },
  {
   "cell_type": "code",
   "execution_count": null,
   "id": "09bfa818-b68b-4eaf-b9ce-7928dbf43234",
   "metadata": {},
   "outputs": [],
   "source": [
    "import shap"
   ]
  },
  {
   "cell_type": "code",
   "execution_count": null,
   "id": "e84aa370-7f7f-431c-aebc-0a4ff61d903d",
   "metadata": {},
   "outputs": [],
   "source": [
    "occupancy_rooms=pd.read_csv('imd/barriers_to_housing/occupancy_rating_rooms.csv')"
   ]
  },
  {
   "cell_type": "code",
   "execution_count": null,
   "id": "787ef4b4-6e14-4d7d-9a69-c0593988a19c",
   "metadata": {},
   "outputs": [],
   "source": [
    "occupancy_rooms[\"proportion of overcrowed houses\"] = (occupancy_rooms.iloc[:, 8] + occupancy_rooms.iloc[:, 9]) / occupancy_rooms.iloc[:, 4]"
   ]
  },
  {
   "cell_type": "code",
   "execution_count": null,
   "id": "5905d6eb-95c2-4038-b4f2-df358cf8531c",
   "metadata": {},
   "outputs": [],
   "source": [
    "occupancy_rooms.head()"
   ]
  },
  {
   "cell_type": "code",
   "execution_count": null,
   "id": "91ea20fa-3acc-4e90-87a0-479825a21496",
   "metadata": {},
   "outputs": [],
   "source": [
    "overcrowded_proportion = occupancy_rooms.iloc[:, [2, 10]]"
   ]
  },
  {
   "cell_type": "code",
   "execution_count": null,
   "id": "57a47f52-e573-418c-8435-b3f66e397aec",
   "metadata": {},
   "outputs": [],
   "source": [
    "central_heating=pd.read_csv('imd/living_env/central_heating.csv')"
   ]
  },
  {
   "cell_type": "code",
   "execution_count": null,
   "id": "9b46563f-bc14-43bc-9dac-8ddca1a3adf3",
   "metadata": {},
   "outputs": [],
   "source": [
    "central_heating[\"proportion of no central heating\"] = central_heating.iloc[:, 5] / central_heating.iloc[:, 4]"
   ]
  },
  {
   "cell_type": "code",
   "execution_count": null,
   "id": "71e140b5-8fe9-4306-805b-fd8c683301e0",
   "metadata": {},
   "outputs": [],
   "source": [
    "central_heating_proportion = central_heating.iloc[:, [2, 12]]"
   ]
  },
  {
   "cell_type": "code",
   "execution_count": null,
   "id": "6fc140fc-3fb0-4099-94fc-54993ea9a57b",
   "metadata": {},
   "outputs": [],
   "source": [
    "english_proficiency=pd.read_csv('imd/education/english_proficiency.csv')"
   ]
  },
  {
   "cell_type": "code",
   "execution_count": null,
   "id": "6174f3aa-e83b-40d4-aefb-3df35ebaff71",
   "metadata": {},
   "outputs": [],
   "source": [
    "english_proficiency[\"cannot speak english well, or at all\"] = (english_proficiency.iloc[:, 8] + english_proficiency.iloc[:, 9]) / english_proficiency.iloc[:, 4]"
   ]
  },
  {
   "cell_type": "code",
   "execution_count": null,
   "id": "4e310e01-a7aa-4f01-a85e-8f5d663e6f2c",
   "metadata": {},
   "outputs": [],
   "source": [
    "unproficient_english_proportion = english_proficiency.iloc[:, [2, 10]]"
   ]
  },
  {
   "cell_type": "code",
   "execution_count": null,
   "id": "1b030174-3eb2-4c81-863d-fbaf58572bbe",
   "metadata": {},
   "outputs": [],
   "source": [
    "highest_qual=pd.read_csv('imd/education/highest_qual.csv')"
   ]
  },
  {
   "cell_type": "code",
   "execution_count": null,
   "id": "8e274837-df14-4e2f-87c6-2c151d51944f",
   "metadata": {},
   "outputs": [],
   "source": [
    "highest_qual[\"level 2 or below\"] = (highest_qual.iloc[:, 5] + highest_qual.iloc[:, 6] + highest_qual.iloc[:, 7]) / highest_qual.iloc[:, 4]"
   ]
  },
  {
   "cell_type": "code",
   "execution_count": null,
   "id": "7db5a4b2-b0a1-4794-8a32-8632ed56ae4e",
   "metadata": {},
   "outputs": [],
   "source": [
    "highest_qual[\"level 3 or below\"] = (highest_qual.iloc[:, 5] + highest_qual.iloc[:, 6] + highest_qual.iloc[:, 7] + highest_qual.iloc[:, 8])  / highest_qual.iloc[:, 4]"
   ]
  },
  {
   "cell_type": "code",
   "execution_count": null,
   "id": "28755ef5-9763-405e-8629-3052ec0a5b92",
   "metadata": {},
   "outputs": [],
   "source": [
    "highest_qual_proportion = highest_qual.iloc[:, [2, 12, 13]]"
   ]
  },
  {
   "cell_type": "code",
   "execution_count": null,
   "id": "6b0a0a6a-7dee-43d3-9db0-d0cff6c4f82f",
   "metadata": {},
   "outputs": [],
   "source": [
    "employment=pd.read_csv('imd/employment/employment.csv')"
   ]
  },
  {
   "cell_type": "code",
   "execution_count": null,
   "id": "7e265f87-9c68-40e0-bc67-31ed065d1887",
   "metadata": {},
   "outputs": [],
   "source": [
    "employment[\"proportion of households with no adults in employment\"] = employment.iloc[:, 5] / employment.iloc[:, 4]"
   ]
  },
  {
   "cell_type": "code",
   "execution_count": null,
   "id": "a8c67595-86df-43d1-be96-6ff2320699e4",
   "metadata": {},
   "outputs": [],
   "source": [
    "employment[\"proportion of households with one person with a long-term health problem or disability\"] = employment.iloc[:, 10] / employment.iloc[:, 4]"
   ]
  },
  {
   "cell_type": "code",
   "execution_count": null,
   "id": "6b23e436-417a-4e1c-aad3-3b2c6b1ddf91",
   "metadata": {},
   "outputs": [],
   "source": [
    "employment_proportion = employment.iloc[:, [2, 13, 14]]"
   ]
  },
  {
   "cell_type": "code",
   "execution_count": null,
   "id": "dfe3410c-7307-4220-820e-48915339fa69",
   "metadata": {},
   "outputs": [],
   "source": [
    "unpaid_care=pd.read_csv('imd/employment/unpaid_care.csv')"
   ]
  },
  {
   "cell_type": "code",
   "execution_count": null,
   "id": "6aaaaaf4-77eb-43c7-803b-29131b462ed9",
   "metadata": {},
   "outputs": [],
   "source": [
    "unpaid_care[\"20 or more hours of unpaid care\"] = (unpaid_care.iloc[:, 7] + unpaid_care.iloc[:, 8]) / unpaid_care.iloc[:, 4]"
   ]
  },
  {
   "cell_type": "code",
   "execution_count": null,
   "id": "70610c78-9084-4fe0-8612-a4b4cde8fc24",
   "metadata": {},
   "outputs": [],
   "source": [
    "unpaid_care_proportion = unpaid_care.iloc[:, [2, 9]]"
   ]
  },
  {
   "cell_type": "code",
   "execution_count": null,
   "id": "3aeee85c-a584-472c-9cf9-bae33160c178",
   "metadata": {},
   "outputs": [],
   "source": [
    "health=pd.read_csv('imd/health/health.csv')"
   ]
  },
  {
   "cell_type": "code",
   "execution_count": null,
   "id": "a5fe0abb-0e6f-4807-b02b-50815c10c8a9",
   "metadata": {},
   "outputs": [],
   "source": [
    "health[\"proportion of bad or very bad health\"] = (health.iloc[:, 8] + health.iloc[:, 9]) / health.iloc[:, 4]"
   ]
  },
  {
   "cell_type": "code",
   "execution_count": null,
   "id": "3793583a-f4ea-4208-8dd0-e2b0a3394705",
   "metadata": {},
   "outputs": [],
   "source": [
    "bad_health_proportion = health.iloc[:, [2, 10]]"
   ]
  },
  {
   "cell_type": "code",
   "execution_count": null,
   "id": "6afa5679-b48c-4764-808b-e90172d6309e",
   "metadata": {},
   "outputs": [],
   "source": [
    "long_term_health=pd.read_csv('imd/health/long_term_health.csv')"
   ]
  },
  {
   "cell_type": "code",
   "execution_count": null,
   "id": "f95d8fcd-f35e-4aff-bc68-cd2272605b78",
   "metadata": {},
   "outputs": [],
   "source": [
    "long_term_health[\"day to day activities limited a lot\"] = long_term_health.iloc[:, 5] / long_term_health.iloc[:, 4]"
   ]
  },
  {
   "cell_type": "code",
   "execution_count": null,
   "id": "2b6f2cd7-da65-4502-a117-aada6e5d593a",
   "metadata": {},
   "outputs": [],
   "source": [
    "long_term_health_proportion = long_term_health.iloc[:, [2, 8]]"
   ]
  },
  {
   "cell_type": "code",
   "execution_count": null,
   "id": "dd284995-22c9-44ac-9048-413124f3f136",
   "metadata": {},
   "outputs": [],
   "source": [
    "hours_worked=pd.read_csv('imd/income/hours_worked.csv')"
   ]
  },
  {
   "cell_type": "code",
   "execution_count": null,
   "id": "b2efe1ca-948a-49eb-8992-2dabaca596ff",
   "metadata": {},
   "outputs": [],
   "source": [
    "hours_worked[\"15 or less hours worked\"] = hours_worked.iloc[:, 5] / hours_worked.iloc[:, 4]"
   ]
  },
  {
   "cell_type": "code",
   "execution_count": null,
   "id": "d10b5c9a-7d76-47ed-921c-80f381b81842",
   "metadata": {},
   "outputs": [],
   "source": [
    "hours_worked_proportion = hours_worked.iloc[:, [2, 19]]"
   ]
  },
  {
   "cell_type": "code",
   "execution_count": null,
   "id": "19caac12-3236-4160-9459-b1ace5bd08b2",
   "metadata": {},
   "outputs": [],
   "source": [
    "economic_activity=pd.read_csv('imd/income/economic_activity.csv')"
   ]
  },
  {
   "cell_type": "code",
   "execution_count": null,
   "id": "cc80da55-6e59-445a-8660-bf1b45248604",
   "metadata": {},
   "outputs": [],
   "source": [
    "economic_activity[\"proportion of unemployed\"] = economic_activity.iloc[:, 9] / economic_activity.iloc[:, 3]"
   ]
  },
  {
   "cell_type": "code",
   "execution_count": null,
   "id": "cd5d94d4-b43f-40c9-8750-395e0648c37f",
   "metadata": {},
   "outputs": [],
   "source": [
    "economic_activity_proportion = economic_activity.iloc[:, [2, 21]]"
   ]
  },
  {
   "cell_type": "code",
   "execution_count": null,
   "id": "a7fb74b5-ecdd-473e-a571-5f8a8fdd833d",
   "metadata": {},
   "outputs": [],
   "source": [
    "crime=pd.read_csv('imd/crime/crime.csv')"
   ]
  },
  {
   "cell_type": "code",
   "execution_count": null,
   "id": "637f8059-fb42-4056-8115-10fcd8a5eb19",
   "metadata": {},
   "outputs": [],
   "source": [
    "crime[crime.iloc[:, 0] == \"E01012334\"]"
   ]
  },
  {
   "cell_type": "code",
   "execution_count": null,
   "id": "e9f10b5f-6273-4b72-97e1-ef0adbe417fd",
   "metadata": {},
   "outputs": [],
   "source": [
    "crime[\"burglary_rate\"] = (crime.iloc[:, 4] / crime.iloc[:, 3]) * 1000"
   ]
  },
  {
   "cell_type": "code",
   "execution_count": null,
   "id": "1357053e-94f4-4dab-b680-f1e4f84b2adb",
   "metadata": {},
   "outputs": [],
   "source": [
    "crime[\"violence_rate\"] = (crime.iloc[:, 5] / crime.iloc[:, 3]) * 1000"
   ]
  },
  {
   "cell_type": "code",
   "execution_count": null,
   "id": "f38987d6-102b-4199-8a85-b0745e3e95bc",
   "metadata": {},
   "outputs": [],
   "source": [
    "crime[\"cda_rate\"] = (crime.iloc[:, 6] / crime.iloc[:, 3]) * 1000"
   ]
  },
  {
   "cell_type": "code",
   "execution_count": null,
   "id": "5ed6ebc6-7a0f-4b32-90c6-0101b38c4677",
   "metadata": {},
   "outputs": [],
   "source": [
    "crime[\"theft_rate\"] = ((crime.iloc[:, 7]+ crime.iloc[:, 8] + crime.iloc[:, 9]) / crime.iloc[:, 3]) * 1000"
   ]
  },
  {
   "cell_type": "code",
   "execution_count": null,
   "id": "35f8fba4-d691-42df-9e34-3bc069ec2bae",
   "metadata": {},
   "outputs": [],
   "source": [
    "crime_rates = crime.iloc[:, [0, 11, 12, 13, 14]]"
   ]
  },
  {
   "cell_type": "code",
   "execution_count": null,
   "id": "657dc4e2-af05-499d-abbe-efd19d7f2260",
   "metadata": {},
   "outputs": [],
   "source": [
    "scores=pd.read_csv('imd/scores/scores.csv')"
   ]
  },
  {
   "cell_type": "code",
   "execution_count": null,
   "id": "9919e0c5-376e-4ed9-8c0e-060307f2e058",
   "metadata": {},
   "outputs": [],
   "source": [
    "scores_imd = scores.iloc[:, [0, 4]]"
   ]
  },
  {
   "cell_type": "code",
   "execution_count": null,
   "id": "06ccf371-0ced-4c1d-80b7-cc78ddb19f9f",
   "metadata": {},
   "outputs": [],
   "source": [
    "scores_imd.head()"
   ]
  },
  {
   "cell_type": "code",
   "execution_count": null,
   "id": "12216241-be6e-448e-a8ba-a2855b498b00",
   "metadata": {},
   "outputs": [],
   "source": [
    "table_list = [overcrowded_proportion, central_heating_proportion, unproficient_english_proportion, highest_qual_proportion, \n",
    "              employment_proportion, unpaid_care_proportion, bad_health_proportion, long_term_health_proportion, hours_worked_proportion, \n",
    "              economic_activity_proportion]"
   ]
  },
  {
   "cell_type": "code",
   "execution_count": null,
   "id": "27ed068a-e829-42fc-81d2-cc9429da9952",
   "metadata": {},
   "outputs": [],
   "source": [
    "merged = table_list[0]"
   ]
  },
  {
   "cell_type": "code",
   "execution_count": null,
   "id": "d397a532-7fec-4c1f-b372-f5b969130fb1",
   "metadata": {},
   "outputs": [],
   "source": [
    "for table in table_list[1:]:\n",
    "    merged = pd.merge(merged, table, on=\"geography code\", how=\"inner\")"
   ]
  },
  {
   "cell_type": "code",
   "execution_count": null,
   "id": "13bccb1e-e40e-4fb5-8ffd-02ba0d928815",
   "metadata": {},
   "outputs": [],
   "source": [
    "merged = pd.merge(merged, scores_imd, left_on=\"geography code\", right_on = \"LSOA code (2011)\", how=\"inner\")"
   ]
  },
  {
   "cell_type": "code",
   "execution_count": null,
   "id": "502a4594-41f9-4483-9a37-7a7561edd179",
   "metadata": {},
   "outputs": [],
   "source": [
    "merged = pd.merge(merged, crime_rates, left_on=\"geography code\", right_on = \"LSOA\", how=\"inner\")"
   ]
  },
  {
   "cell_type": "code",
   "execution_count": null,
   "id": "27e7d3ac-d22a-477e-be0d-3979878e2c9c",
   "metadata": {},
   "outputs": [],
   "source": [
    "merged = merged.drop(merged.columns[[13, 15]], axis=1)"
   ]
  },
  {
   "cell_type": "code",
   "execution_count": null,
   "id": "e78d8776-4c65-42bd-8de3-b6e3d0253331",
   "metadata": {},
   "outputs": [],
   "source": [
    "#merged[\"imd_bin\"] = pd.qcut(merged['Index of Multiple Deprivation (IMD) Score'], q=5, labels=False)"
   ]
  },
  {
   "cell_type": "code",
   "execution_count": null,
   "id": "57e12c6b-0964-4866-ac3b-e7c9195ccbea",
   "metadata": {},
   "outputs": [],
   "source": [
    "#merged = merged.drop(merged.columns[[13]], axis=1)"
   ]
  },
  {
   "cell_type": "code",
   "execution_count": null,
   "id": "2fa7b2af-221b-4fbb-9993-f85be3c7e5e4",
   "metadata": {},
   "outputs": [],
   "source": [
    "lsoa_column = merged['geography code']"
   ]
  },
  {
   "cell_type": "code",
   "execution_count": null,
   "id": "c2726663-af9c-42d5-a4a8-681474e395e0",
   "metadata": {},
   "outputs": [],
   "source": [
    "merged = merged.drop(\"geography code\", axis=1)"
   ]
  },
  {
   "cell_type": "code",
   "execution_count": null,
   "id": "09ac7f44-c1c0-4302-aae2-54dfb16a14f7",
   "metadata": {},
   "outputs": [],
   "source": [
    "merged.head()"
   ]
  },
  {
   "cell_type": "code",
   "execution_count": null,
   "id": "4019e4cb-fcda-41b1-b959-978350959df2",
   "metadata": {},
   "outputs": [],
   "source": [
    "from sklearn.model_selection import train_test_split\n",
    "from sklearn.preprocessing import StandardScaler\n",
    "\n",
    "X = merged.drop('Index of Multiple Deprivation (IMD) Score', axis=1)\n",
    "y = merged['Index of Multiple Deprivation (IMD) Score']\n",
    "\n",
    "#X_train, X_test, y_train, y_test = train_test_split(X, y, test_size=0.25, random_state=42)\n",
    "X_train, X_test, y_train, y_test = train_test_split(X, y, test_size=0.25)\n",
    "print(f\"Training data: {len(X_train)}\")\n",
    "print(f\"Testing data: {len(X_test)}\")\n",
    "\n",
    "scaler_X = StandardScaler()\n",
    "scaler_y = StandardScaler()\n",
    "\n",
    "X_train_scaled = scaler_X.fit_transform(X_train)\n",
    "X_test_scaled = scaler_X.transform(X_test)\n",
    "\n",
    "y_train_scaled = scaler_y.fit_transform(y_train.values.reshape(-1, 1))\n",
    "y_test_scaled = scaler_y.transform(y_test.values.reshape(-1, 1))"
   ]
  },
  {
   "cell_type": "code",
   "execution_count": null,
   "id": "8f14ff3a-0686-41db-9bea-18743728e40d",
   "metadata": {},
   "outputs": [],
   "source": [
    "import torch\n",
    "import torch.nn as nn\n",
    "import torch.optim as optim\n",
    "\n",
    "gpu = torch.device(\"cuda\" if torch.cuda.is_available() else \"cpu\")\n",
    "\n",
    "X_train_tensor = torch.tensor(X_train_scaled, dtype=torch.float32).to(gpu)\n",
    "X_test_tensor = torch.tensor(X_test_scaled, dtype=torch.float32).to(gpu)\n",
    "y_train_tensor = torch.tensor(y_train_scaled, dtype=torch.float32).to(gpu)\n",
    "y_test_tensor = torch.tensor(y_test_scaled, dtype=torch.float32).to(gpu)\n",
    "\n",
    "class MLPModel(nn.Module):\n",
    "    def __init__(self, inputs, hidden, output):\n",
    "        super(MLPModel, self).__init__()\n",
    "        self.hidden_layer1 = nn.Linear(inputs, hidden)\n",
    "        self.relu = nn.ReLU()\n",
    "        self.hidden_layer2 = nn.Linear(hidden, hidden)\n",
    "        self.output_layer = nn.Linear(hidden, output)\n",
    "    \n",
    "    def forward(self, x):\n",
    "        x = self.relu(self.hidden_layer1(x))\n",
    "        x = self.relu(self.hidden_layer2(x))\n",
    "        x = self.output_layer(x)\n",
    "        return x\n",
    "\n",
    "inputs = X_train_tensor.shape[1]\n",
    "hidden = 64\n",
    "output = 1\n",
    "\n",
    "model = MLPModel(inputs, hidden, output).to(gpu)\n",
    "\n",
    "criterion = nn.MSELoss()\n",
    "optimizer = optim.Adam(model.parameters())\n",
    "\n",
    "epochs = 1000\n",
    "batch_size = 64\n",
    "\n",
    "for epoch in range(epochs):\n",
    "    for i in range(0, len(X_train_tensor), batch_size):\n",
    "        X_batch = X_train_tensor[i:i+batch_size]\n",
    "        y_batch = y_train_tensor[i:i+batch_size]\n",
    "        \n",
    "        optimizer.zero_grad()\n",
    "        predictions = model(X_batch)\n",
    "        loss = criterion(predictions, y_batch.view(-1, 1))\n",
    "        loss.backward()\n",
    "        optimizer.step()\n",
    "    \n",
    "    if (epoch + 1) % 100 == 0:\n",
    "        print(\"Epoch\", epoch + 1, \"/\", epochs, \"Loss:\", round(loss.item(), 4))"
   ]
  },
  {
   "cell_type": "code",
   "execution_count": null,
   "id": "11fc11c3-ec72-4b75-8418-ffb4a8d17854",
   "metadata": {},
   "outputs": [],
   "source": [
    "model.eval()\n",
    "with torch.no_grad():\n",
    "    y_pred = model(X_test_tensor)\n",
    "\n",
    "test_loss = criterion(y_pred, y_test_tensor.view(-1, 1))\n",
    "print(\"Test Loss:\", round(test_loss.item(), 4))"
   ]
  },
  {
   "cell_type": "code",
   "execution_count": null,
   "id": "1d8b6449-9135-46b4-86ab-32f104441532",
   "metadata": {},
   "outputs": [],
   "source": [
    "y_pred = y_pred.cpu().numpy()\n",
    "y_test = y_test_tensor.cpu().numpy()\n",
    "print(\"Pred:\", y_pred[:10])\n",
    "print(\"True Val:\",y_test_tensor[:10])"
   ]
  },
  {
   "cell_type": "code",
   "execution_count": null,
   "id": "9002eed2-bcd7-40e3-8db0-3f269b7e6305",
   "metadata": {},
   "outputs": [],
   "source": [
    "y_train_original = scaler_y.inverse_transform(y_train_scaled.reshape(-1, 1))\n",
    "y_test_original = scaler_y.inverse_transform(y_test_scaled.reshape(-1, 1))\n",
    "y_pred_original = scaler_y.inverse_transform(y_pred.reshape(-1, 1))\n",
    "\n",
    "print(\"Pred:\", y_pred_original[:10])\n",
    "print(\"True Val:\", y_test_original[:10])"
   ]
  },
  {
   "cell_type": "code",
   "execution_count": null,
   "id": "82abb613-47e9-4b02-acce-6a55c6cc708d",
   "metadata": {},
   "outputs": [],
   "source": [
    "true_values_bins = pd.qcut(y_test_original.flatten(), 5, labels=False)\n",
    "pred_values_bins = pd.qcut(y_pred_original.flatten(), 5, labels=False)\n",
    "\n",
    "print(\"True Val:\", true_values_bins[:10])\n",
    "print(\"Pred:\", pred_values_bins[:10])"
   ]
  },
  {
   "cell_type": "code",
   "execution_count": null,
   "id": "341c0159-a70e-405a-9f74-b1b217a795ff",
   "metadata": {},
   "outputs": [],
   "source": [
    "accuracy = (true_values_bins == pred_values_bins).mean()\n",
    "print(\"Accuracy:\", round(accuracy, 4))"
   ]
  },
  {
   "cell_type": "code",
   "execution_count": null,
   "id": "57ed0bf9-f1ef-4c9d-9103-1bd60d6ecf5d",
   "metadata": {},
   "outputs": [],
   "source": [
    "X_test_sample = X_test_tensor[:1000].cpu().numpy()\n",
    "\n",
    "explainer = shap.GradientExplainer(model, X_train_tensor[:1000])\n",
    "\n",
    "shap_values = explainer.shap_values(X_test_tensor[:1000])\n",
    "shap_values = shap_values.squeeze(-1)\n",
    "shap.summary_plot(shap_values, X_test_sample, feature_names=X.columns)"
   ]
  },
  {
   "cell_type": "code",
   "execution_count": null,
   "id": "6e1b578c-fdff-442e-8cb6-82264e3ac5c0",
   "metadata": {},
   "outputs": [],
   "source": [
    "X_test_sample.shape"
   ]
  },
  {
   "cell_type": "code",
   "execution_count": null,
   "id": "d0a17e2d-808d-4569-95de-973a6414057f",
   "metadata": {},
   "outputs": [],
   "source": [
    "X_test_tensor.shape"
   ]
  },
  {
   "cell_type": "code",
   "execution_count": null,
   "id": "b80fafb0-7b6b-44d6-8989-5a2021890565",
   "metadata": {},
   "outputs": [],
   "source": [
    "shap_values.shape"
   ]
  },
  {
   "cell_type": "code",
   "execution_count": null,
   "id": "b2c23d19-869b-4c72-a0a4-c8cf60cfbd65",
   "metadata": {},
   "outputs": [],
   "source": [
    "merged.head()"
   ]
  },
  {
   "cell_type": "code",
   "execution_count": null,
   "id": "298de094-2d17-4447-984c-bd18393fa028",
   "metadata": {},
   "outputs": [],
   "source": [
    "X_test_tensor[:1000]"
   ]
  },
  {
   "cell_type": "code",
   "execution_count": null,
   "id": "63bd1117-825e-4f68-88de-dfd2c679cdb2",
   "metadata": {},
   "outputs": [],
   "source": [
    "merged.head()"
   ]
  },
  {
   "cell_type": "code",
   "execution_count": null,
   "id": "4281a4d3-0350-47c5-ac73-dfca366eb32d",
   "metadata": {},
   "outputs": [],
   "source": [
    "merged.info()"
   ]
  },
  {
   "cell_type": "code",
   "execution_count": null,
   "id": "692b7e9a-8187-47fb-bbd8-7db90b342838",
   "metadata": {},
   "outputs": [],
   "source": [
    "import geopandas as gpd\n",
    "import matplotlib.pyplot as plt\n",
    "\n",
    "# Load LSOA boundary GeoJSON\n",
    "lsoa_map = gpd.read_file(\"lsoa.geojson\")  # Update path if needed\n",
    "\n",
    "# Filter out Welsh LSOAs\n",
    "lsoa_map_england = lsoa_map[lsoa_map['LSOA11CD'].str.startswith('E')]\n",
    "\n",
    "# Rename LSOA ID column to match\n",
    "scores_imd.rename(columns={'LSOA code (2011)': 'LSOA11CD'}, inplace=True)\n",
    "\n",
    "# Merge boundaries with deprivation scores\n",
    "lsoa_map_england = lsoa_map.merge(scores_imd, on=\"LSOA11CD\", how=\"left\")\n",
    "\n",
    "fig, ax = plt.subplots(1, 1, figsize=(10, 10))\n",
    "lsoa_map_england.plot(column=\"Index of Multiple Deprivation (IMD) Score\", cmap=\"OrRd\", legend=True, ax=ax)\n",
    "\n",
    "# Add title\n",
    "ax.set_title(\"LSOA Deprivation Scores in England\", fontsize=12)\n",
    "\n",
    "plt.show()"
   ]
  },
  {
   "cell_type": "code",
   "execution_count": null,
   "id": "218984e2-f125-4dbb-88e0-5c7a7e99f9f4",
   "metadata": {},
   "outputs": [],
   "source": [
    "print(lsoa_map.head())"
   ]
  },
  {
   "cell_type": "code",
   "execution_count": null,
   "id": "0f47f06c-3523-45dd-9959-cf721f3bf98d",
   "metadata": {},
   "outputs": [],
   "source": [
    "print(scores_imd.columns)"
   ]
  },
  {
   "cell_type": "code",
   "execution_count": null,
   "id": "2a813897-0409-43cf-9e40-5dd46d5e0d7d",
   "metadata": {},
   "outputs": [],
   "source": [
    "print(lsoa_map.columns) "
   ]
  },
  {
   "cell_type": "code",
   "execution_count": null,
   "id": "13c83569-21a0-45db-b47c-e3d12b1e8975",
   "metadata": {},
   "outputs": [],
   "source": [
    "import folium\n",
    "\n",
    "lsoa_map_england = lsoa_map_england.to_crs(epsg=4326)\n",
    "\n",
    "# centre on England\n",
    "m = folium.Map(location=[52.3555, -1.1743], zoom_start=6)\n",
    "\n",
    "folium.Choropleth(\n",
    "    geo_data=lsoa_map_england,\n",
    "    data=scores_imd,\n",
    "    columns=[\"LSOA11CD\", \"Index of Multiple Deprivation (IMD) Score\"],\n",
    "    key_on=\"feature.properties.LSOA11CD\",\n",
    "    fill_color=\"YlOrRd\",\n",
    "    fill_opacity=0.7,\n",
    "    line_opacity=0.2,\n",
    "    legend_name=\"Index of Multiple Deprivation (IMD) Score\"\n",
    ").add_to(m)\n",
    "\n",
    "# Save\n",
    "m.save(\"england_deprivation_map.html\")\n",
    "m"
   ]
  },
  {
   "cell_type": "code",
   "execution_count": null,
   "id": "286dd389-6b61-4c07-8cde-ce795d4f69ab",
   "metadata": {},
   "outputs": [],
   "source": [
    "merged.head()"
   ]
  },
  {
   "cell_type": "code",
   "execution_count": null,
   "id": "21cea397-627d-4ec6-9fc7-2f4a817ed6d6",
   "metadata": {},
   "outputs": [],
   "source": [
    "# Evaluation mode\n",
    "model.eval()\n",
    "\n",
    "# Standardize dataset\n",
    "X_full = merged.drop(columns=['Index of Multiple Deprivation (IMD) Score'])\n",
    "X_full_scaled = scaler_X.transform(X_full)\n",
    "\n",
    "# Convert to PyTorch tensor and move to GPU  \n",
    "X_full_tensor = torch.tensor(X_full_scaled, dtype=torch.float32).to(gpu)\n",
    "\n",
    "# Make prediction using trained model\n",
    "with torch.no_grad():\n",
    "    y_pred_scaled = model(X_full_tensor)\n",
    "\n",
    "# Convert predictions back to original scale\n",
    "y_pred = scaler_y.inverse_transform(y_pred_scaled.cpu().numpy())\n",
    "\n",
    "# Create DataFrame with LSOA and Predicted IMD Score\n",
    "results_df = pd.DataFrame({\n",
    "    'LSOA': lsoa_column, \n",
    "    'Predicted IMD Score': y_pred.flatten()\n",
    "})\n",
    "\n",
    "# Save to CSV\n",
    "results_df.to_csv('predicted_imd_scores.csv', index=False)"
   ]
  },
  {
   "cell_type": "code",
   "execution_count": null,
   "id": "299bb44a-d11b-4006-8043-c0b9757d588f",
   "metadata": {},
   "outputs": [],
   "source": [
    "import folium\n",
    "from folium.plugins import Fullscreen\n",
    "# Load IMD 2011 predictions\n",
    "results_df = pd.read_csv(\"predicted_imd_scores.csv\")\n",
    "\n",
    "# Load LSOA GeoJSON file\n",
    "gdf = gpd.read_file(\"lsoa.geojson\")\n",
    "\n",
    "# Match column name\n",
    "gdf = gdf.rename(columns={'LSOA11CD': 'LSOA'})  \n",
    "merged_gdf = gdf.merge(results_df, on=\"LSOA\", how=\"left\")\n",
    "\n",
    "# Centre of england\n",
    "m = folium.Map(location=[52.3555, -1.1743], zoom_start=6, tiles=\"cartodbpositron\")\n",
    "\n",
    "folium.Choropleth(\n",
    "    geo_data=merged_gdf,\n",
    "    name=\"IMD Score\",\n",
    "    data=merged_gdf,\n",
    "    columns=[\"LSOA\", \"Predicted IMD Score\"],\n",
    "    key_on=\"feature.properties.LSOA\",\n",
    "    fill_color=\"YlOrRd\",\n",
    "    fill_opacity=0.7,\n",
    "    line_opacity=0.2,\n",
    "    legend_name=\"Predicted IMD Score\"\n",
    ").add_to(m)\n",
    "\n",
    "Fullscreen().add_to(m)\n",
    "\n",
    "m.save(\"imd_map.html\")\n",
    "m"
   ]
  },
  {
   "cell_type": "markdown",
   "id": "48fbae87-0635-4b9a-86ed-1dfffc459153",
   "metadata": {},
   "source": [
    "**2021 Census**"
   ]
  },
  {
   "cell_type": "code",
   "execution_count": null,
   "id": "ec874089-e83e-499d-93b9-f8a94f169321",
   "metadata": {},
   "outputs": [],
   "source": [
    "occupancy_rooms2=pd.read_csv('imd2021/barriers_to_housing/occupancy_rating_rooms2.csv')"
   ]
  },
  {
   "cell_type": "code",
   "execution_count": null,
   "id": "7c4667f3-8787-406a-8d1e-7de32f7ad073",
   "metadata": {},
   "outputs": [],
   "source": [
    "occupancy_rooms2[\"proportion of overcrowed houses\"] = (occupancy_rooms2.iloc[:, 5] + occupancy_rooms2.iloc[:, 6]) / occupancy_rooms2.iloc[:, 1]"
   ]
  },
  {
   "cell_type": "code",
   "execution_count": null,
   "id": "ffade7d2-d960-417e-8510-4a303d97cf5b",
   "metadata": {},
   "outputs": [],
   "source": [
    "overcrowded_proportion2 = occupancy_rooms2.iloc[:, [0, 7]]"
   ]
  },
  {
   "cell_type": "code",
   "execution_count": null,
   "id": "7f2e0e63-11c7-45ec-a1a4-909cc055132c",
   "metadata": {},
   "outputs": [],
   "source": [
    "central_heating2=pd.read_csv('imd2021/living_env/central_heating2.csv')"
   ]
  },
  {
   "cell_type": "code",
   "execution_count": null,
   "id": "e2e122d7-7c61-4f18-b481-03bacb2cb90e",
   "metadata": {},
   "outputs": [],
   "source": [
    "central_heating2[\"proportion of no central heating\"] = central_heating2.iloc[:, 2] / central_heating2.iloc[:, 1]"
   ]
  },
  {
   "cell_type": "code",
   "execution_count": null,
   "id": "af8313f6-17ee-46d6-a58a-d8418a5be556",
   "metadata": {},
   "outputs": [],
   "source": [
    "central_heating_proportion2 = central_heating2.iloc[:, [0, 3]]"
   ]
  },
  {
   "cell_type": "code",
   "execution_count": null,
   "id": "c52f82be-7b27-4f6a-9cc6-a270ed98cae5",
   "metadata": {},
   "outputs": [],
   "source": [
    "english_proficiency2=pd.read_csv('imd2021/education/english_proficiency2.csv')"
   ]
  },
  {
   "cell_type": "code",
   "execution_count": null,
   "id": "aa3e8abf-5627-4828-98c7-9afa18348a7f",
   "metadata": {},
   "outputs": [],
   "source": [
    "english_proficiency2[\"cannot speak english well, or at all\"] = (english_proficiency2.iloc[:, 2] + english_proficiency2.iloc[:, 3]) / english_proficiency2.iloc[:, 1]"
   ]
  },
  {
   "cell_type": "code",
   "execution_count": null,
   "id": "6379e7cd-f8e0-4b97-9c48-ae273e4a2330",
   "metadata": {},
   "outputs": [],
   "source": [
    "unproficient_english_proportion2 = english_proficiency2.iloc[:, [0, 4]]"
   ]
  },
  {
   "cell_type": "code",
   "execution_count": null,
   "id": "0f7ef0b7-5dc1-4ea3-9e3c-9e27c778fc8f",
   "metadata": {},
   "outputs": [],
   "source": [
    "highest_qual2=pd.read_csv('imd2021/education/highest_qual2.csv')"
   ]
  },
  {
   "cell_type": "code",
   "execution_count": null,
   "id": "66781391-18f0-4df2-9304-0d59992f1248",
   "metadata": {},
   "outputs": [],
   "source": [
    "highest_qual2[\"level 2 or below\"] = (highest_qual2.iloc[:, 2] + highest_qual2.iloc[:, 3] + highest_qual2.iloc[:, 4]) / highest_qual2.iloc[:, 1]"
   ]
  },
  {
   "cell_type": "code",
   "execution_count": null,
   "id": "561ecf76-3357-4a17-ac86-6684c9eeec80",
   "metadata": {},
   "outputs": [],
   "source": [
    "highest_qual2[\"level 3 or below\"] = (highest_qual2.iloc[:, 2] + highest_qual2.iloc[:, 3] + highest_qual2.iloc[:, 4] + highest_qual2.iloc[:, 6])  / highest_qual2.iloc[:, 1]"
   ]
  },
  {
   "cell_type": "code",
   "execution_count": null,
   "id": "b1a820b0-6732-421c-9507-c13c86346288",
   "metadata": {},
   "outputs": [],
   "source": [
    "highest_qual_proportion2 = highest_qual2.iloc[:, [0, 7, 8]]"
   ]
  },
  {
   "cell_type": "code",
   "execution_count": null,
   "id": "56b10626-1db9-4981-ba31-056134be887d",
   "metadata": {},
   "outputs": [],
   "source": [
    "employment3=pd.read_csv('imd2021/employment/employment3.csv')"
   ]
  },
  {
   "cell_type": "code",
   "execution_count": null,
   "id": "3a1676ca-b648-4557-babe-b10330407cc6",
   "metadata": {},
   "outputs": [],
   "source": [
    "employment3[\"proportion of households with no adults in employment\"] = (employment3.iloc[:, 2] + employment3.iloc[:, 3]) / employment3.iloc[:, 1]"
   ]
  },
  {
   "cell_type": "code",
   "execution_count": null,
   "id": "8fce3210-b349-4da9-b92e-76a49f6a6b34",
   "metadata": {},
   "outputs": [],
   "source": [
    "employment_proportion3 = employment3.iloc[:, [0, 4]]"
   ]
  },
  {
   "cell_type": "code",
   "execution_count": null,
   "id": "033f31f3-1fd3-4d84-83e9-7045d96ba35f",
   "metadata": {},
   "outputs": [],
   "source": [
    "employment2=pd.read_csv('imd2021/employment/employment4.csv')"
   ]
  },
  {
   "cell_type": "code",
   "execution_count": null,
   "id": "73a68dc0-0c7e-40b8-8508-fd6db18043c3",
   "metadata": {},
   "outputs": [],
   "source": [
    "employment2[\"proportion of households with one person with a long-term health problem or disability\"] = employment2.iloc[:, 2] / employment2.iloc[:, 1]"
   ]
  },
  {
   "cell_type": "code",
   "execution_count": null,
   "id": "a222ae2c-eb09-4a80-abcc-eeebc0dd5447",
   "metadata": {},
   "outputs": [],
   "source": [
    "employment_proportion2 = employment2.iloc[:, [0, 4]]"
   ]
  },
  {
   "cell_type": "code",
   "execution_count": null,
   "id": "624e8487-1511-4d40-ac82-883daaa24517",
   "metadata": {},
   "outputs": [],
   "source": [
    "employment_proportion2.head()"
   ]
  },
  {
   "cell_type": "code",
   "execution_count": null,
   "id": "6959dd5d-7ba8-43a1-8633-41282c51f5fc",
   "metadata": {},
   "outputs": [],
   "source": [
    "unpaid_care2=pd.read_csv('imd2021/employment/unpaid_care2.csv')"
   ]
  },
  {
   "cell_type": "code",
   "execution_count": null,
   "id": "c229c081-0dc8-441a-b94a-1b3354f53921",
   "metadata": {},
   "outputs": [],
   "source": [
    "unpaid_care2[\"20 or more hours of unpaid care\"] = (unpaid_care2.iloc[:, 2] + unpaid_care2.iloc[:, 3]) / unpaid_care2.iloc[:, 1]"
   ]
  },
  {
   "cell_type": "code",
   "execution_count": null,
   "id": "e0257ec4-95fe-4ba9-a4d8-9f63428dabe8",
   "metadata": {},
   "outputs": [],
   "source": [
    "unpaid_care_proportion2 = unpaid_care2.iloc[:, [0, 4]]"
   ]
  },
  {
   "cell_type": "code",
   "execution_count": null,
   "id": "b85ff149-4efc-47b1-bdfd-274326124b02",
   "metadata": {},
   "outputs": [],
   "source": [
    "health2=pd.read_csv('imd2021/health/health2.csv')"
   ]
  },
  {
   "cell_type": "code",
   "execution_count": null,
   "id": "0c88267a-e4c0-49be-95e1-7ab30ddc813b",
   "metadata": {},
   "outputs": [],
   "source": [
    "health2[\"proportion of bad or very bad health\"] = (health2.iloc[:, 2] + health2.iloc[:, 3]) / health2.iloc[:, 1]"
   ]
  },
  {
   "cell_type": "code",
   "execution_count": null,
   "id": "13e92fd3-5e9a-4a97-97ec-70fa42fafe12",
   "metadata": {},
   "outputs": [],
   "source": [
    "bad_health_proportion2 = health2.iloc[:, [0, 4]]"
   ]
  },
  {
   "cell_type": "code",
   "execution_count": null,
   "id": "ee0c16c7-d5ff-43b4-9159-e5c0abccfd2a",
   "metadata": {},
   "outputs": [],
   "source": [
    "long_term_health2=pd.read_csv('imd2021/health/long_term_health2.csv')"
   ]
  },
  {
   "cell_type": "code",
   "execution_count": null,
   "id": "2843be18-684c-4f6b-b305-83e4faa20609",
   "metadata": {},
   "outputs": [],
   "source": [
    "long_term_health2[\"day to day activities limited a lot\"] = long_term_health2.iloc[:, 3] / long_term_health2.iloc[:, 1]"
   ]
  },
  {
   "cell_type": "code",
   "execution_count": null,
   "id": "c322b618-c67d-4517-ae85-fff66e9e31bd",
   "metadata": {},
   "outputs": [],
   "source": [
    "long_term_health_proportion2 = long_term_health2.iloc[:, [0, 4]]"
   ]
  },
  {
   "cell_type": "code",
   "execution_count": null,
   "id": "4438fd83-196e-4da9-8aaf-aeb799357bfd",
   "metadata": {},
   "outputs": [],
   "source": [
    "hours_worked2=pd.read_csv('imd2021/income/hours_worked2.csv')"
   ]
  },
  {
   "cell_type": "code",
   "execution_count": null,
   "id": "48553143-a2cf-4e04-a1ab-bc2103c8298e",
   "metadata": {},
   "outputs": [],
   "source": [
    "hours_worked2[\"15 or less hours worked\"] = hours_worked2.iloc[:, 2] / hours_worked2.iloc[:, 1]"
   ]
  },
  {
   "cell_type": "code",
   "execution_count": null,
   "id": "99c918b4-1389-4cce-b452-d17926a8a891",
   "metadata": {},
   "outputs": [],
   "source": [
    "hours_worked_proportion2 = hours_worked2.iloc[:, [0, 3]]"
   ]
  },
  {
   "cell_type": "code",
   "execution_count": null,
   "id": "1265e7b0-fafa-4ce3-a455-77afb6dceeb1",
   "metadata": {},
   "outputs": [],
   "source": [
    "economic_activity2=pd.read_csv('imd2021/income/economic_activity2.csv')"
   ]
  },
  {
   "cell_type": "code",
   "execution_count": null,
   "id": "ab352256-cb30-4171-b457-6515bdd34c8d",
   "metadata": {},
   "outputs": [],
   "source": [
    "economic_activity2[\"proportion of unemployed\"] = economic_activity2.iloc[:, 2] / economic_activity2.iloc[:, 1]"
   ]
  },
  {
   "cell_type": "code",
   "execution_count": null,
   "id": "1b752e26-31bb-4d26-ab4f-2149dc5f03ad",
   "metadata": {},
   "outputs": [],
   "source": [
    "economic_activity_proportion2 = economic_activity2.iloc[:, [0, 4]]"
   ]
  },
  {
   "cell_type": "code",
   "execution_count": null,
   "id": "99ae90ef-32f2-4790-a6ff-8e4f6da81531",
   "metadata": {},
   "outputs": [],
   "source": [
    "crime2=pd.read_csv('imd2021/crime/crime2.csv')"
   ]
  },
  {
   "cell_type": "code",
   "execution_count": null,
   "id": "4e159b03-6e34-4239-b7fc-017caeb148b9",
   "metadata": {},
   "outputs": [],
   "source": [
    "crime2[\"burglary_rate\"] = (crime2.iloc[:, 4] / crime2.iloc[:, 3]) * 1000"
   ]
  },
  {
   "cell_type": "code",
   "execution_count": null,
   "id": "fd190f02-6c0e-4fdf-93f1-c4863d1e4f92",
   "metadata": {},
   "outputs": [],
   "source": [
    "crime2[\"violence_rate\"] = (crime2.iloc[:, 5] / crime2.iloc[:, 3]) * 1000"
   ]
  },
  {
   "cell_type": "code",
   "execution_count": null,
   "id": "e3c96e03-4456-4ba4-af35-92cee754fc94",
   "metadata": {},
   "outputs": [],
   "source": [
    "crime2[\"cda_rate\"] = (crime2.iloc[:, 6] / crime2.iloc[:, 3]) * 1000"
   ]
  },
  {
   "cell_type": "code",
   "execution_count": null,
   "id": "813222f5-71d2-4310-abb7-b108203bfb59",
   "metadata": {},
   "outputs": [],
   "source": [
    "crime2[\"theft_rate\"] = ((crime2.iloc[:, 7]+ crime2.iloc[:, 8] + crime2.iloc[:, 9]) / crime2.iloc[:, 3]) * 1000"
   ]
  },
  {
   "cell_type": "code",
   "execution_count": null,
   "id": "7c9fc5d3-6236-49f7-b47c-8418438d8f90",
   "metadata": {},
   "outputs": [],
   "source": [
    "crime_rates2 = crime2.iloc[:, [0, 11, 12, 13, 14]]"
   ]
  },
  {
   "cell_type": "code",
   "execution_count": null,
   "id": "87190697-10d6-400a-9ec9-42932e52e9e6",
   "metadata": {},
   "outputs": [],
   "source": [
    "crime_rates2.head()"
   ]
  },
  {
   "cell_type": "code",
   "execution_count": null,
   "id": "dc8ffd3a-84d6-4f2c-8b2b-05b35faed88e",
   "metadata": {},
   "outputs": [],
   "source": [
    "crime2.info()"
   ]
  },
  {
   "cell_type": "code",
   "execution_count": null,
   "id": "f639453a-3f5b-488b-8a14-41bc9d6984e0",
   "metadata": {},
   "outputs": [],
   "source": [
    "table_list2 = [overcrowded_proportion2, central_heating_proportion2, unproficient_english_proportion2, highest_qual_proportion2, employment_proportion3, \n",
    "              employment_proportion2, unpaid_care_proportion2, bad_health_proportion2, long_term_health_proportion2, hours_worked_proportion2, \n",
    "              economic_activity_proportion2]"
   ]
  },
  {
   "cell_type": "code",
   "execution_count": null,
   "id": "5c92858e-947a-4255-aabb-9dcc023ddf71",
   "metadata": {},
   "outputs": [],
   "source": [
    "merged2 = table_list2[0]"
   ]
  },
  {
   "cell_type": "code",
   "execution_count": null,
   "id": "3dea43f9-bd7b-4385-8c29-38ba98e3d406",
   "metadata": {},
   "outputs": [],
   "source": [
    "for table in table_list2[1:]:\n",
    "    merged2 = pd.merge(merged2, table, on=\"2021 super output area - lower layer\", how=\"inner\")"
   ]
  },
  {
   "cell_type": "code",
   "execution_count": null,
   "id": "c3c401bf-d2c5-4407-84c6-3a139b200c5b",
   "metadata": {},
   "outputs": [],
   "source": [
    "merged2.head()"
   ]
  },
  {
   "cell_type": "code",
   "execution_count": null,
   "id": "5781839b-6dbc-4919-97f6-8868dd09b1fe",
   "metadata": {},
   "outputs": [],
   "source": [
    "merged2.info()"
   ]
  },
  {
   "cell_type": "code",
   "execution_count": null,
   "id": "41427152-39a8-44e1-b35c-463723b9d7a3",
   "metadata": {},
   "outputs": [],
   "source": [
    "merged2[\"2021 super output area - lower layer\"] = merged2[\"2021 super output area - lower layer\"].str.split(\" : \").str[0]"
   ]
  },
  {
   "cell_type": "code",
   "execution_count": null,
   "id": "2d24dc16-1526-4f5e-8b8c-0509e1bb7ce9",
   "metadata": {},
   "outputs": [],
   "source": [
    "merged2.head()"
   ]
  },
  {
   "cell_type": "code",
   "execution_count": null,
   "id": "772b8ea5-44ee-411e-852d-f76bed100833",
   "metadata": {},
   "outputs": [],
   "source": [
    "merged2 = pd.merge(merged2, crime_rates2, left_on=\"2021 super output area - lower layer\", right_on = \"LSOA\", how=\"inner\")"
   ]
  },
  {
   "cell_type": "code",
   "execution_count": null,
   "id": "24c4929e-ea02-481f-9e52-84953d78856b",
   "metadata": {},
   "outputs": [],
   "source": [
    "merged2.head()"
   ]
  },
  {
   "cell_type": "code",
   "execution_count": null,
   "id": "a0c07cfb-fa1f-4e4a-9e56-affffd285160",
   "metadata": {},
   "outputs": [],
   "source": [
    "merged2.info()"
   ]
  },
  {
   "cell_type": "code",
   "execution_count": null,
   "id": "f54a6374-da9d-4d72-ab7e-c154ba30d6ba",
   "metadata": {},
   "outputs": [],
   "source": [
    "lsoa_column2021 = merged2[\"LSOA\"]\n",
    "merged2 = merged2.drop(merged2.columns[[0, 13]], axis=1)\n",
    "\n",
    "X_merged2 = merged2.copy()  \n",
    "\n",
    "# Standardize features\n",
    "X_merged2_scaled = scaler_X.transform(X_merged2)\n",
    "\n",
    "# Convert to PyTorch Tensor\n",
    "X_merged2_tensor = torch.tensor(X_merged2_scaled, dtype=torch.float32).to(gpu)\n",
    "\n",
    "# Generate Predictions\n",
    "model.eval()\n",
    "with torch.no_grad():\n",
    "    predictions = model(X_merged2_tensor)\n",
    "\n",
    "# Convert Predictions Back to Original Scale\n",
    "predictions_np = scaler_y.inverse_transform(predictions.cpu().numpy())\n",
    "\n",
    "# Create results DataFrame\n",
    "results_df2021 = pd.DataFrame({\n",
    "    'LSOA': lsoa_column2021, \n",
    "    'Predicted IMD Score': predictions_np.flatten()\n",
    "})"
   ]
  },
  {
   "cell_type": "code",
   "execution_count": null,
   "id": "780b35c7-6dbb-488d-ba58-a5076cce205a",
   "metadata": {},
   "outputs": [],
   "source": [
    "merged2.head()"
   ]
  },
  {
   "cell_type": "code",
   "execution_count": null,
   "id": "aa08eb87-ea08-4fe1-bbee-cb2b078e1268",
   "metadata": {},
   "outputs": [],
   "source": [
    "merged.head()"
   ]
  },
  {
   "cell_type": "code",
   "execution_count": null,
   "id": "750b0c7b-b717-4ab9-b033-d13b145546de",
   "metadata": {},
   "outputs": [],
   "source": [
    "results_df2021.head()"
   ]
  },
  {
   "cell_type": "code",
   "execution_count": null,
   "id": "4488427d-c892-4235-a03f-a742bc1f067d",
   "metadata": {},
   "outputs": [],
   "source": [
    "# Load LSOA Shapefile\n",
    "gdf2021 = gpd.read_file(\"imd2021/lsoa2021.zip\")\n",
    "\n",
    "# match column names\n",
    "gdf2021 = gdf.rename(columns={'LSOA11CD': 'LSOA'})\n",
    "merged_gdf2021 = gdf.merge(results_df2021, on=\"LSOA\", how=\"left\")\n",
    "\n",
    "# Centre\n",
    "m = folium.Map(location=[52.3555, -1.1743], zoom_start=6, tiles=\"cartodbpositron\")\n",
    "\n",
    "folium.Choropleth(\n",
    "    geo_data=merged_gdf2021,\n",
    "    name=\"IMD Score\",\n",
    "    data=merged_gdf2021,\n",
    "    columns=[\"LSOA\", \"Predicted IMD Score\"],\n",
    "    key_on=\"feature.properties.LSOA\",\n",
    "    fill_color=\"YlOrRd\",\n",
    "    fill_opacity=0.7,\n",
    "    line_opacity=0.2,\n",
    "    legend_name=\"Predicted IMD Score\"\n",
    ").add_to(m)\n",
    "\n",
    "Fullscreen().add_to(m)\n",
    "\n",
    "m.save(\"imd_map.html\")\n",
    "m"
   ]
  },
  {
   "cell_type": "code",
   "execution_count": null,
   "id": "2099f8fb-3dfc-455b-acbf-b3927475ee3c",
   "metadata": {},
   "outputs": [],
   "source": [
    "results_df.head()"
   ]
  },
  {
   "cell_type": "code",
   "execution_count": null,
   "id": "545e8075-3d35-46bc-aa61-2c9b3e573ba9",
   "metadata": {},
   "outputs": [],
   "source": [
    "results_df2021.head()"
   ]
  },
  {
   "cell_type": "code",
   "execution_count": null,
   "id": "07ded1d0-b4e0-4013-ba31-e4fdc09553b0",
   "metadata": {},
   "outputs": [],
   "source": [
    "merged_results_df = pd.merge(results_df, results_df2021, on=\"LSOA\", how=\"inner\")"
   ]
  },
  {
   "cell_type": "code",
   "execution_count": null,
   "id": "de700efe-d577-445c-ab1f-33e22a340791",
   "metadata": {},
   "outputs": [],
   "source": [
    "merged_results_df.head()"
   ]
  },
  {
   "cell_type": "code",
   "execution_count": null,
   "id": "61ba87a4-49ff-4917-aa82-8777af8562fd",
   "metadata": {},
   "outputs": [],
   "source": [
    "# Calculate the change in IMD scores\n",
    "merged_results_df['IMD_change'] = merged_results_df['Predicted IMD Score_y'] - merged_results_df['Predicted IMD Score_x']\n",
    "\n",
    "# Merge the GeoDataFrame with the merged_results_df based on LSOA\n",
    "lsoa_map_england = lsoa_map_england.rename(columns={'LSOA11CD': 'LSOA'})\n",
    "merged_change_gdf = lsoa_map_england.merge(merged_results_df, on=\"LSOA\", how=\"left\")\n",
    "\n",
    "# centre map\n",
    "m = folium.Map(location=[52.3555, -1.1743], zoom_start=6, tiles=\"cartodbpositron\")\n",
    "\n",
    "folium.Choropleth(\n",
    "    geo_data=merged_change_gdf,\n",
    "    name=\"IMD Change\",\n",
    "    data=merged_change_gdf,\n",
    "    columns=[\"LSOA\", \"IMD_change\"],\n",
    "    key_on=\"feature.properties.LSOA\",\n",
    "    fill_color=\"RdYlBu_r\",\n",
    "    fill_opacity=0.7,\n",
    "    line_opacity=0.2,\n",
    "    legend_name=\"Change in IMD Score (2021 - 2011)\",\n",
    ").add_to(m)\n",
    "\n",
    "Fullscreen().add_to(m)\n",
    "\n",
    "m.save(\"imd_change_map.html\")\n",
    "\n",
    "m"
   ]
  },
  {
   "cell_type": "code",
   "execution_count": null,
   "id": "b786bfc2-9777-4138-a468-0c6710e09e79",
   "metadata": {},
   "outputs": [],
   "source": [
    "merged.head()"
   ]
  },
  {
   "cell_type": "code",
   "execution_count": null,
   "id": "16412aa9-25fe-4562-ace5-e0e71cb089f2",
   "metadata": {},
   "outputs": [],
   "source": [
    "merged.describe()"
   ]
  },
  {
   "cell_type": "code",
   "execution_count": null,
   "id": "d2d63d74-b2c1-4554-ac58-0254706946f7",
   "metadata": {},
   "outputs": [],
   "source": [
    "merged2.describe()"
   ]
  },
  {
   "cell_type": "code",
   "execution_count": null,
   "id": "db0c992f-91b1-4256-aeb5-1cd134bae572",
   "metadata": {},
   "outputs": [],
   "source": [
    "merged_results_df.describe()"
   ]
  },
  {
   "cell_type": "code",
   "execution_count": null,
   "id": "6bcfe20f-b7f8-45b6-bb6c-87d756425169",
   "metadata": {},
   "outputs": [],
   "source": [
    "merged_results_df = merged_results_df.rename(columns = {'Predicted IMD Score_x': 'IMD predictions using 2011 Census', 'Predicted IMD Score_y': 'IMD predictions using 2021 Census'})"
   ]
  },
  {
   "cell_type": "code",
   "execution_count": null,
   "id": "f551d1c6-f87d-4627-ae09-31511a2797f1",
   "metadata": {},
   "outputs": [],
   "source": [
    "merged_results_df.describe()"
   ]
  },
  {
   "cell_type": "code",
   "execution_count": null,
   "id": "e2228e16-0194-46d7-b671-0bea69f7fe73",
   "metadata": {},
   "outputs": [],
   "source": []
  }
 ],
 "metadata": {
  "kernelspec": {
   "display_name": "Python 3 (ipykernel)",
   "language": "python",
   "name": "python3"
  },
  "language_info": {
   "codemirror_mode": {
    "name": "ipython",
    "version": 3
   },
   "file_extension": ".py",
   "mimetype": "text/x-python",
   "name": "python",
   "nbconvert_exporter": "python",
   "pygments_lexer": "ipython3",
   "version": "3.12.5"
  }
 },
 "nbformat": 4,
 "nbformat_minor": 5
}
